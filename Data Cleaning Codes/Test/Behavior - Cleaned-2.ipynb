{
 "cells": [
  {
   "cell_type": "code",
   "execution_count": 4,
   "id": "d8b235e1",
   "metadata": {},
   "outputs": [
    {
     "name": "stdout",
     "output_type": "stream",
     "text": [
      "Data has been cleaned and saved to 'cleaned_behavior_dataset.csv'\n"
     ]
    }
   ],
   "source": [
    "import pandas as pd\n",
    "import re\n",
    "from datetime import datetime\n",
    "\n",
    "# Read the TSV file (replace 'your_dataset.tsv' with your actual file path)\n",
    "df = pd.read_csv('/Users/n7/Desktop/ie University SAMBD Acadamics/Capstone Project/Data/MINDlarge_test/behaviors.tsv', sep='\\t', header=None)\n",
    "\n",
    "# Define the header (you can adjust the column names as needed)\n",
    "header = [\n",
    "    \"Impression ID\", \n",
    "    \"User ID\", \n",
    "    \"Timestamp\", \n",
    "    \"Displayed News List\", \n",
    "    \"Impression List (Clicked Status)\"\n",
    "]\n",
    "\n",
    "# Assign headers to the DataFrame\n",
    "df.columns = header\n",
    "\n",
    "# 1. Drop rows with missing values in 'User ID', 'Displayed News List', and 'Impression List (Clicked Status)'\n",
    "df.dropna(subset=['User ID', 'Displayed News List', 'Impression List (Clicked Status)'], inplace=True)\n",
    "\n",
    "# 2. Impute missing values in other columns with 'Unknown'\n",
    "df.fillna('Unknown', inplace=True)\n",
    "\n",
    "# 3. Replace the space in 'Displayed News List' by a comma\n",
    "df['Displayed News List'] = df['Displayed News List'].apply(lambda x: x.replace(' ', ','))\n",
    "\n",
    "# 4. Replace the space in 'Impression List (Clicked Status)' by a comma\n",
    "df['Impression List (Clicked Status)'] = df['Impression List (Clicked Status)'].apply(lambda x: x.replace(' ', ','))\n",
    "\n",
    "# 5. Add empty columns for Clicked News IDs and Not-Clicked News IDs\n",
    "df['Clicked News IDs'] = \"\"\n",
    "df['Not-Clicked News IDs'] = \"\"\n",
    "\n",
    "# Save the cleaned data as a CSV file (replace 'cleaned_dataset.csv' with your desired output file path)\n",
    "df.to_csv('/Users/n7/Desktop/ie University SAMBD Acadamics/Capstone Project/Data/MINDlarge_test/Cleaned Dataset/cleaned_behavior_dataset.csv', index=False)\n",
    "\n",
    "print(\"Data has been cleaned and saved to 'cleaned_behavior_dataset.csv'\")"
   ]
  },
  {
   "cell_type": "code",
   "execution_count": null,
   "id": "ee275937",
   "metadata": {},
   "outputs": [],
   "source": []
  }
 ],
 "metadata": {
  "kernelspec": {
   "display_name": "Python 3 (ipykernel)",
   "language": "python",
   "name": "python3"
  },
  "language_info": {
   "codemirror_mode": {
    "name": "ipython",
    "version": 3
   },
   "file_extension": ".py",
   "mimetype": "text/x-python",
   "name": "python",
   "nbconvert_exporter": "python",
   "pygments_lexer": "ipython3",
   "version": "3.11.8"
  }
 },
 "nbformat": 4,
 "nbformat_minor": 5
}
