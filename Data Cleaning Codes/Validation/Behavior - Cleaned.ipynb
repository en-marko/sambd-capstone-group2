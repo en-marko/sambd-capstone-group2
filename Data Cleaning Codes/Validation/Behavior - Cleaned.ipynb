{
 "cells": [
  {
   "cell_type": "code",
   "execution_count": 1,
   "id": "d8b235e1",
   "metadata": {},
   "outputs": [
    {
     "name": "stdout",
     "output_type": "stream",
     "text": [
      "Data has been cleaned and saved to 'cleaned_behavior_dataset.csv'\n"
     ]
    }
   ],
   "source": [
    "import pandas as pd\n",
    "import re\n",
    "from datetime import datetime\n",
    "\n",
    "# Read the TSV file (replace 'your_dataset.tsv' with your actual file path)\n",
    "df = pd.read_csv('/Users/n7/Desktop/ie University SAMBD Acadamics/Capstone Project/Data/MINDlarge_train/behaviors.tsv', sep='\\t', header=None)\n",
    "\n",
    "# Define the header (you can adjust the column names as needed)\n",
    "header = [\n",
    "    \"Impression ID\", \n",
    "    \"User ID\", \n",
    "    \"Timestamp\", \n",
    "    \"Displayed News List\", \n",
    "    \"Impression List (Clicked Status)\"\n",
    "]\n",
    "\n",
    "# Assign headers to the DataFrame\n",
    "df.columns = header\n",
    "\n",
    "# 1. Drop rows with missing values in 'User ID', 'Displayed News List', and 'Impression List (Clicked Status)'\n",
    "df.dropna(subset=['User ID', 'Displayed News List', 'Impression List (Clicked Status)'], inplace=True)\n",
    "\n",
    "# 2. Impute missing values in other columns with 'Unknown'\n",
    "df.fillna('Unknown', inplace=True)\n",
    "\n",
    "# 3. Replace the space in 'Displayed News List' by a comma\n",
    "df['Displayed News List'] = df['Displayed News List'].apply(lambda x: x.replace(' ', ','))\n",
    "\n",
    "# 4. Convert 'Impression List (Clicked Status)' to a dictionary where 'NewsID' is key and click status is value\n",
    "def convert_to_dict(impression_list):\n",
    "    impression_dict = {}\n",
    "    impressions = impression_list.split(' ')\n",
    "    for impression in impressions:\n",
    "        news_id, click_status = impression.split('-')\n",
    "        impression_dict[news_id] = int(click_status)  # Convert click status to integer\n",
    "    return impression_dict\n",
    "\n",
    "# Apply the conversion function to the 'Impression List (Clicked Status)' column\n",
    "df['Impression Dictionary'] = df['Impression List (Clicked Status)'].apply(convert_to_dict)\n",
    "\n",
    "# 5. Split the dictionary into two columns: Clicked News IDs and Not-Clicked News IDs\n",
    "def split_clicked_not_clicked(impression_dict):\n",
    "    clicked_news_ids = [news_id for news_id, click_status in impression_dict.items() if click_status == 1]\n",
    "    not_clicked_news_ids = [news_id for news_id, click_status in impression_dict.items() if click_status == 0]\n",
    "    return pd.Series([clicked_news_ids, not_clicked_news_ids])\n",
    "\n",
    "# Apply the split function and create new columns\n",
    "df[['Clicked News IDs', 'Not-Clicked News IDs']] = df['Impression Dictionary'].apply(split_clicked_not_clicked)\n",
    "\n",
    "\n",
    "# Save the cleaned data as a CSV file (replace 'cleaned_dataset.csv' with your desired output file path)\n",
    "df.to_csv('/Users/n7/Desktop/ie University SAMBD Acadamics/Capstone Project/Data/MINDlarge_train/Cleaned Datasets/cleaned_behavior_dataset.csv', index=False)\n",
    "\n",
    "print(\"Data has been cleaned and saved to 'cleaned_behavior_dataset.csv'\")"
   ]
  },
  {
   "cell_type": "code",
   "execution_count": null,
   "id": "ee275937",
   "metadata": {},
   "outputs": [],
   "source": []
  }
 ],
 "metadata": {
  "kernelspec": {
   "display_name": "Python 3 (ipykernel)",
   "language": "python",
   "name": "python3"
  },
  "language_info": {
   "codemirror_mode": {
    "name": "ipython",
    "version": 3
   },
   "file_extension": ".py",
   "mimetype": "text/x-python",
   "name": "python",
   "nbconvert_exporter": "python",
   "pygments_lexer": "ipython3",
   "version": "3.11.8"
  }
 },
 "nbformat": 4,
 "nbformat_minor": 5
}
